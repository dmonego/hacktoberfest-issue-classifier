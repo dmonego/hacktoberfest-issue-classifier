{
 "cells": [
  {
   "cell_type": "code",
   "execution_count": 10,
   "source": [
    "from pigeon import annotate\n",
    "from IPython.display import display, Markdown\n",
    "import json\n",
    "\n",
    "with open(\"issues.json\") as issues_file:\n",
    "    issues = json.load(issues_file)\n",
    "\n",
    "    \n",
    "def display_issue(issue):\n",
    "    link_string = f\"[Link to issue]({issue['IssueUrl']})\"\n",
    "    json_string = json.dumps(issue, indent=4)\n",
    "    return display(Markdown(f\"{link_string}\\n\\n`{json_string}`\"))\n",
    "    \n",
    "    \n",
    "annotations = annotate(issues, [\"good\", \"spam\", \"novelty\"], display_fn=display_issue)"
   ],
   "outputs": [
    {
     "output_type": "display_data",
     "data": {
      "application/vnd.jupyter.widget-view+json": {
       "model_id": "d4798937809f4e228e09f6a11194bacf",
       "version_major": 2,
       "version_minor": 0
      },
      "text/plain": [
       "HTML(value='0 examples annotated, 101 examples left')"
      ]
     },
     "metadata": {}
    },
    {
     "output_type": "display_data",
     "data": {
      "application/vnd.jupyter.widget-view+json": {
       "model_id": "27316fdc4f814aee9bd808662249e788",
       "version_major": 2,
       "version_minor": 0
      },
      "text/plain": [
       "HBox(children=(Button(description='good', style=ButtonStyle()), Button(description='spam', style=ButtonStyle()…"
      ]
     },
     "metadata": {}
    },
    {
     "output_type": "display_data",
     "data": {
      "application/vnd.jupyter.widget-view+json": {
       "model_id": "b8a41cd071604af6a28da1eadc866646",
       "version_major": 2,
       "version_minor": 0
      },
      "text/plain": [
       "Output()"
      ]
     },
     "metadata": {}
    }
   ],
   "metadata": {}
  }
 ],
 "metadata": {
  "kernelspec": {
   "display_name": "Python 3 (ipykernel)",
   "language": "python",
   "name": "python3"
  },
  "language_info": {
   "codemirror_mode": {
    "name": "ipython",
    "version": 3
   },
   "file_extension": ".py",
   "mimetype": "text/x-python",
   "name": "python",
   "nbconvert_exporter": "python",
   "pygments_lexer": "ipython3",
   "version": "3.9.6"
  }
 },
 "nbformat": 4,
 "nbformat_minor": 5
}