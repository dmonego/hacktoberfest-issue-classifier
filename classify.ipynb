{
 "cells": [
  {
   "cell_type": "code",
   "execution_count": 1,
   "id": "f5a3e656",
   "metadata": {},
   "outputs": [],
   "source": [
    "from pigeon import annotate\n",
    "from IPython.display import display, Markdown\n",
    "import json\n",
    "\n",
    "dataset = \"set-1\""
   ]
  },
  {
   "cell_type": "code",
   "execution_count": 2,
   "id": "b6b62c61",
   "metadata": {
    "scrolled": true
   },
   "outputs": [
    {
     "data": {
      "application/vnd.jupyter.widget-view+json": {
       "model_id": "1d584f33ef99438cabcdc167b724bea7",
       "version_major": 2,
       "version_minor": 0
      },
      "text/plain": [
       "HTML(value='0 examples annotated, 151 examples left')"
      ]
     },
     "metadata": {},
     "output_type": "display_data"
    },
    {
     "data": {
      "application/vnd.jupyter.widget-view+json": {
       "model_id": "5cceadcd7099460c8896031d8661f706",
       "version_major": 2,
       "version_minor": 0
      },
      "text/plain": [
       "HBox(children=(Button(description='good', style=ButtonStyle()), Button(description='spam', style=ButtonStyle()…"
      ]
     },
     "metadata": {},
     "output_type": "display_data"
    },
    {
     "data": {
      "application/vnd.jupyter.widget-view+json": {
       "model_id": "e44794f4b9a142929200ecc31865b4de",
       "version_major": 2,
       "version_minor": 0
      },
      "text/plain": [
       "Output()"
      ]
     },
     "metadata": {},
     "output_type": "display_data"
    },
    {
     "name": "stdout",
     "output_type": "stream",
     "text": [
      "Annotation done.\n"
     ]
    }
   ],
   "source": [
    "with open(f\"datasets/{dataset}/issues.json\") as issues_file:\n",
    "    issues = json.load(issues_file)\n",
    "\n",
    "    \n",
    "def display_issue(issue):\n",
    "    issue_link_string = f\"[Link to issue]({issue['IssueUrl']})\"\n",
    "    repo_link_string = f\"[Link to project]({issue['RepoUrl']})\"\n",
    "    json_string = json.dumps(issue, indent=4)\n",
    "    return display(Markdown(f\"{issue_link_string}   {repo_link_string}\\n\\n`{json_string}`\"))\n",
    "    \n",
    "    \n",
    "annotations = annotate(issues, [\"good\", \"spam\", \"novelty\"], display_fn=display_issue)"
   ]
  },
  {
   "cell_type": "code",
   "execution_count": 4,
   "id": "936ddcc3",
   "metadata": {},
   "outputs": [],
   "source": [
    "with open(f\"datasets/{dataset}/annotated.json\", \"w\") as annotationfile:\n",
    "    json.dump(annotations, annotationfile, indent=2)"
   ]
  }
 ],
 "metadata": {
  "kernelspec": {
   "display_name": "Python 3 (ipykernel)",
   "language": "python",
   "name": "python3"
  },
  "language_info": {
   "codemirror_mode": {
    "name": "ipython",
    "version": 3
   },
   "file_extension": ".py",
   "mimetype": "text/x-python",
   "name": "python",
   "nbconvert_exporter": "python",
   "pygments_lexer": "ipython3",
   "version": "3.8.5"
  }
 },
 "nbformat": 4,
 "nbformat_minor": 5
}
